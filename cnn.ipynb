{
 "cells": [
  {
   "cell_type": "code",
   "execution_count": 1,
   "id": "4d689871-5770-4d2e-b3b6-801019cead8c",
   "metadata": {},
   "outputs": [],
   "source": [
    "import CKpreprocess"
   ]
  },
  {
   "cell_type": "code",
   "execution_count": 2,
   "id": "c4cd155b-b79d-4918-b14e-6604b1971675",
   "metadata": {},
   "outputs": [],
   "source": [
    "folder = '/Users/kristshingjergji/Desktop/random/images_datasets/CK+/'"
   ]
  },
  {
   "cell_type": "code",
   "execution_count": 3,
   "id": "f1de8450-6c51-4180-a288-b91ca9b8bc14",
   "metadata": {},
   "outputs": [],
   "source": [
    "train_X, test_X, train_Y, test_Y = CKpreprocess.create_training_testing_set( folder, 0.2, dimension = 3)\n",
    "train_X, test_X = train_X / 255.0, test_X / 255.0"
   ]
  },
  {
   "cell_type": "markdown",
   "id": "9c44e939-67b9-47e2-9e65-f9fbe6eba206",
   "metadata": {},
   "source": [
    "## The CNN"
   ]
  },
  {
   "cell_type": "code",
   "execution_count": 4,
   "id": "cf23c8f5-1ed9-4f7d-9746-bdd31666dab1",
   "metadata": {},
   "outputs": [],
   "source": [
    "import cnn"
   ]
  },
  {
   "cell_type": "code",
   "execution_count": 5,
   "id": "3e11a094-60bd-4029-a920-25fb60d93b32",
   "metadata": {},
   "outputs": [],
   "source": [
    "model = cnn.simple_model(96, 39)"
   ]
  },
  {
   "cell_type": "code",
   "execution_count": 6,
   "id": "657f05ad-b267-4f7a-a018-1b0322c97ae1",
   "metadata": {
    "scrolled": true,
    "tags": []
   },
   "outputs": [
    {
     "name": "stdout",
     "output_type": "stream",
     "text": [
      "Epoch 1/30\n",
      "15/15 [==============================] - 2s 116ms/step - loss: 0.4805 - f1_keras: 0.1555 - val_loss: 0.3117 - val_f1_keras: 0.0044\n",
      "Epoch 2/30\n",
      "15/15 [==============================] - 2s 109ms/step - loss: 0.2872 - f1_keras: 0.2008 - val_loss: 0.2475 - val_f1_keras: 0.2225\n",
      "Epoch 3/30\n",
      "15/15 [==============================] - 2s 109ms/step - loss: 0.2517 - f1_keras: 0.1919 - val_loss: 0.2363 - val_f1_keras: 0.0044\n",
      "Epoch 4/30\n",
      "15/15 [==============================] - 2s 108ms/step - loss: 0.2456 - f1_keras: 0.2074 - val_loss: 0.2320 - val_f1_keras: 0.2225\n",
      "Epoch 5/30\n",
      "15/15 [==============================] - 2s 109ms/step - loss: 0.2416 - f1_keras: 0.2323 - val_loss: 0.2314 - val_f1_keras: 0.2232\n",
      "Epoch 6/30\n",
      "15/15 [==============================] - 2s 112ms/step - loss: 0.2329 - f1_keras: 0.2264 - val_loss: 0.2176 - val_f1_keras: 0.2192\n",
      "Epoch 7/30\n",
      "15/15 [==============================] - 2s 115ms/step - loss: 0.2168 - f1_keras: 0.3687 - val_loss: 0.2049 - val_f1_keras: 0.4316\n",
      "Epoch 8/30\n",
      "15/15 [==============================] - 2s 114ms/step - loss: 0.1982 - f1_keras: 0.4786 - val_loss: 0.1859 - val_f1_keras: 0.5328\n",
      "Epoch 9/30\n",
      "15/15 [==============================] - 2s 111ms/step - loss: 0.1833 - f1_keras: 0.5470 - val_loss: 0.1759 - val_f1_keras: 0.6065\n",
      "Epoch 10/30\n",
      "15/15 [==============================] - 2s 109ms/step - loss: 0.1666 - f1_keras: 0.6144 - val_loss: 0.1639 - val_f1_keras: 0.6066\n",
      "Epoch 11/30\n",
      "15/15 [==============================] - 2s 113ms/step - loss: 0.1567 - f1_keras: 0.6538 - val_loss: 0.1559 - val_f1_keras: 0.6482\n",
      "Epoch 12/30\n",
      "15/15 [==============================] - 2s 109ms/step - loss: 0.1493 - f1_keras: 0.6600 - val_loss: 0.1527 - val_f1_keras: 0.6638\n",
      "Epoch 13/30\n",
      "15/15 [==============================] - 2s 116ms/step - loss: 0.1451 - f1_keras: 0.6807 - val_loss: 0.1530 - val_f1_keras: 0.6465\n",
      "Epoch 14/30\n",
      "15/15 [==============================] - 2s 114ms/step - loss: 0.1389 - f1_keras: 0.6968 - val_loss: 0.1603 - val_f1_keras: 0.6600\n",
      "Epoch 15/30\n",
      "15/15 [==============================] - 2s 111ms/step - loss: 0.1396 - f1_keras: 0.7113 - val_loss: 0.1538 - val_f1_keras: 0.6505\n",
      "Epoch 16/30\n",
      "15/15 [==============================] - 2s 111ms/step - loss: 0.1309 - f1_keras: 0.7242 - val_loss: 0.1523 - val_f1_keras: 0.6415\n",
      "Epoch 17/30\n",
      "15/15 [==============================] - 2s 112ms/step - loss: 0.1270 - f1_keras: 0.7189 - val_loss: 0.1454 - val_f1_keras: 0.6712\n",
      "Epoch 18/30\n",
      "15/15 [==============================] - 2s 112ms/step - loss: 0.1180 - f1_keras: 0.7479 - val_loss: 0.1437 - val_f1_keras: 0.6991\n",
      "Epoch 19/30\n",
      "15/15 [==============================] - 2s 115ms/step - loss: 0.1144 - f1_keras: 0.7518 - val_loss: 0.1422 - val_f1_keras: 0.6921\n",
      "Epoch 20/30\n",
      "15/15 [==============================] - 2s 116ms/step - loss: 0.1090 - f1_keras: 0.7703 - val_loss: 0.1511 - val_f1_keras: 0.6569\n",
      "Epoch 21/30\n",
      "15/15 [==============================] - 2s 110ms/step - loss: 0.1053 - f1_keras: 0.7722 - val_loss: 0.1469 - val_f1_keras: 0.6964\n",
      "Epoch 22/30\n",
      "15/15 [==============================] - 2s 112ms/step - loss: 0.0978 - f1_keras: 0.7949 - val_loss: 0.1552 - val_f1_keras: 0.6518\n",
      "Epoch 23/30\n",
      "15/15 [==============================] - 2s 114ms/step - loss: 0.0911 - f1_keras: 0.8064 - val_loss: 0.1581 - val_f1_keras: 0.6718\n",
      "Epoch 24/30\n",
      "15/15 [==============================] - 2s 115ms/step - loss: 0.0880 - f1_keras: 0.8181 - val_loss: 0.1583 - val_f1_keras: 0.6826\n",
      "Epoch 25/30\n",
      "15/15 [==============================] - 2s 117ms/step - loss: 0.0808 - f1_keras: 0.8314 - val_loss: 0.1700 - val_f1_keras: 0.6870\n",
      "Epoch 26/30\n",
      "15/15 [==============================] - 2s 119ms/step - loss: 0.0810 - f1_keras: 0.8403 - val_loss: 0.1794 - val_f1_keras: 0.6686\n",
      "Epoch 27/30\n",
      "15/15 [==============================] - 2s 119ms/step - loss: 0.0784 - f1_keras: 0.8400 - val_loss: 0.1686 - val_f1_keras: 0.6805\n",
      "Epoch 28/30\n",
      "15/15 [==============================] - 2s 118ms/step - loss: 0.0692 - f1_keras: 0.8587 - val_loss: 0.1821 - val_f1_keras: 0.6896\n",
      "Epoch 29/30\n",
      "15/15 [==============================] - 2s 113ms/step - loss: 0.0642 - f1_keras: 0.8661 - val_loss: 0.1910 - val_f1_keras: 0.6710\n",
      "Epoch 30/30\n",
      "15/15 [==============================] - 2s 114ms/step - loss: 0.0612 - f1_keras: 0.8706 - val_loss: 0.1948 - val_f1_keras: 0.6912\n"
     ]
    }
   ],
   "source": [
    "history = cnn.fit_model(train_X, train_Y,test_X, test_Y, lr = 0.001, epochs = 30, batch_size = 32 )"
   ]
  },
  {
   "cell_type": "code",
   "execution_count": 9,
   "id": "fa7f6891-d75b-4478-b666-fbd4684f18a9",
   "metadata": {},
   "outputs": [
    {
     "data": {
      "image/png": "[encoded data removed]",
      "text/plain": [
       "<Figure size 432x288 with 1 Axes>"
      ]
     },
     "metadata": {
      "needs_background": "light"
     },
     "output_type": "display_data"
    }
   ],
   "source": [
    "cnn.visualize_history(history, 'f1_keras')"
   ]
  },
  {
   "cell_type": "code",
   "execution_count": 10,
   "id": "69b26b24-9814-4055-8e82-91b540ce12fe",
   "metadata": {},
   "outputs": [
    {
     "name": "stdout",
     "output_type": "stream",
     "text": [
      "WARNING:tensorflow:Compiled the loaded model, but the compiled metrics have yet to be built. `model.compile_metrics` will be empty until you train or evaluate the model.\n"
     ]
    }
   ],
   "source": [
    "model.save(\"my_model.h5\")"
   ]
  },
  {
   "cell_type": "code",
   "execution_count": 11,
   "id": "155c9f0c-d544-433d-ae85-bc10b9fcab9f",
   "metadata": {},
   "outputs": [],
   "source": [
    "model.save_weights('my_model_weights.h5')"
   ]
  },
  {
   "cell_type": "code",
   "execution_count": 15,
   "id": "cd6c1d29-a613-4ae7-8136-8afd25069dc2",
   "metadata": {},
   "outputs": [
    {
     "name": "stdout",
     "output_type": "stream",
     "text": [
      "WARNING:tensorflow:No training configuration found in the save file, so the model was *not* compiled. Compile it manually.\n"
     ]
    }
   ],
   "source": [
    "from keras.models import load_model\n",
    "model_new = load_model('/Users/kristshingjergji/Documents/PhD/code/my_model.h5', compile = True)"
   ]
  },
  {
   "cell_type": "code",
   "execution_count": null,
   "id": "55b190a4-0a1c-4099-b4b4-ce7914cc7be6",
   "metadata": {},
   "outputs": [],
   "source": []
  }
 ],
 "metadata": {
  "kernelspec": {
   "display_name": "Python 3",
   "language": "python",
   "name": "python3"
  },
  "language_info": {
   "codemirror_mode": {
    "name": "ipython",
    "version": 3
   },
   "file_extension": ".py",
   "mimetype": "text/x-python",
   "name": "python",
   "nbconvert_exporter": "python",
   "pygments_lexer": "ipython3",
   "version": "3.9.5"
  }
 },
 "nbformat": 4,
 "nbformat_minor": 5
}
